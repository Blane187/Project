{
  "cells": [
    {
      "cell_type": "markdown",
      "metadata": {
        "id": "view-in-github",
        "colab_type": "text"
      },
      "source": [
        "<a href=\"https://colab.research.google.com/github/Blane187/Project/blob/main/Applio_infrence_NoUI.ipynb\" target=\"_parent\"><img src=\"https://colab.research.google.com/assets/colab-badge.svg\" alt=\"Open In Colab\"/></a>"
      ]
    },
    {
      "cell_type": "markdown",
      "metadata": {
        "id": "0pKllbPyK_BC"
      },
      "source": [
        "# Applio NoUI\n",
        "- Original Created by [Blaise](https://github.com/blaise-tk) with [Vidal](https://github.com/Vidalnt) and [Poopmaster](https://github.com/poiqazwsx). Based on [RVC_CLI](https://github.com/blaise-tk/RVC_CLI).\n",
        "\n",
        "- Colab inspired on [RVC v2 Disconnected](https://colab.research.google.com/drive/1XIPCP9ken63S7M6b5ui1b36Cs17sP-NS)."
      ]
    },
    {
      "cell_type": "markdown",
      "metadata": {
        "id": "ymMCTSD6m8qV"
      },
      "source": [
        "# Installation\n",
        "####  If the runtime restarts, run the cell above and re-run the installation steps."
      ]
    },
    {
      "cell_type": "code",
      "execution_count": null,
      "metadata": {
        "id": "7GysECSxBya4",
        "cellView": "form"
      },
      "outputs": [],
      "source": [
        "# @title Install\n",
        "from google.colab import drive\n",
        "from IPython.display import clear_output\n",
        "drive.mount(\"/content/drive\")\n",
        "!git clone https://github.com/IAHispano/Applio\n",
        "%cd /content/Applio\n",
        "\n",
        "clear_output()\n",
        "\n",
        "!pip install -r requirements.txt\n",
        "\n",
        "!mkdir -p /content/drive/MyDrive/Appliout\n",
        "clear_output()\n",
        "\n",
        "!python core.py prerequisites\n",
        "\n",
        "clear_output()"
      ]
    },
    {
      "cell_type": "markdown",
      "metadata": {
        "id": "YzaeMYsUE97Y"
      },
      "source": [
        "# Infer\n"
      ]
    },
    {
      "cell_type": "code",
      "execution_count": null,
      "metadata": {
        "id": "TwUBPIuuD-7E",
        "cellView": "form"
      },
      "outputs": [],
      "source": [
        "#@title Model Download Function\n",
        "\n",
        "import os\n",
        "import zipfile\n",
        "import shutil\n",
        "import urllib.request\n",
        "\n",
        "BASE_DIR = os.getcwd()\n",
        "rvc_models_dir = os.path.join(BASE_DIR, '/content/Applio/logs')\n",
        "\n",
        "def extract_zip(extraction_folder, zip_name):\n",
        "    os.makedirs(extraction_folder)\n",
        "    with zipfile.ZipFile(zip_name, 'r') as zip_ref:\n",
        "        zip_ref.extractall(extraction_folder)\n",
        "    os.remove(zip_name)\n",
        "\n",
        "    index_filepath, model_filepath = None, None\n",
        "    for root, dirs, files in os.walk(extraction_folder):\n",
        "        for name in files:\n",
        "            if name.endswith('.index') and os.stat(os.path.join(root, name)).st_size > 1024 * 100:\n",
        "                index_filepath = os.path.join(root, name)\n",
        "\n",
        "            if name.endswith('.pth') and os.stat(os.path.join(root, name)).st_size > 1024 * 1024 * 40:\n",
        "                model_filepath = os.path.join(root, name)\n",
        "\n",
        "    if not model_filepath:\n",
        "        raise Exception(f'No .pth model file was found in the extracted zip. Please check {extraction_folder}.')\n",
        "\n",
        "    # move model and index file to extraction folder\n",
        "    os.rename(model_filepath, os.path.join(extraction_folder, os.path.basename(model_filepath)))\n",
        "    if index_filepath:\n",
        "        os.rename(index_filepath, os.path.join(extraction_folder, os.path.basename(index_filepath)))\n",
        "\n",
        "    # remove any unnecessary nested folders\n",
        "    for filepath in os.listdir(extraction_folder):\n",
        "        if os.path.isdir(os.path.join(extraction_folder, filepath)):\n",
        "            shutil.rmtree(os.path.join(extraction_folder, filepath))\n",
        "\n",
        "def download_online_model(url, dir_name):\n",
        "    try:\n",
        "        print(f'[~] Downloading voice model with name {dir_name}...')\n",
        "        zip_name = url.split('/')[-1]\n",
        "        extraction_folder = os.path.join(rvc_models_dir, dir_name)\n",
        "        if os.path.exists(extraction_folder):\n",
        "            raise Exception(f'Voice model directory {dir_name} already exists! Choose a different name for your voice model.')\n",
        "\n",
        "        if 'pixeldrain.com' in url:\n",
        "            url = f'https://pixeldrain.com/api/file/{zip_name}'\n",
        "\n",
        "        urllib.request.urlretrieve(url, zip_name)\n",
        "\n",
        "        print('[~] Extracting zip...')\n",
        "        extract_zip(extraction_folder, zip_name)\n",
        "        print(f'[+] {dir_name} Model successfully downloaded 😆')\n",
        "\n",
        "    except Exception as e:\n",
        "        raise Exception(str(e))\n",
        "\n",
        "url = \"https://huggingface.co/Hev832/rvc/resolve/main/Sonic.zip\" # @param {type:\"string\"}\n",
        "dir_name = \"Sonic\" # @param {type:\"string\"}\n",
        "\n",
        "download_online_model(url, dir_name)"
      ]
    },
    {
      "cell_type": "code",
      "source": [
        "#@title Youtube Audio Vocal Downloader for inference\n",
        "import os\n",
        "import yt_dlp\n",
        "\n",
        "#@markdown YouTube video link:\n",
        "video_url = \"\"  #@param {type:\"string\"}\n",
        "#@markdown audio name of YouTube audio:\n",
        "audio_name = \"\"  #@param {type:\"string\"}\n",
        "#@markdown Output path for downloaded audio files:\n",
        "save_folder = \"/content/audios\"  #@param {type:\"string\"}\n",
        "#@markdown Select the output format:\n",
        "audio_format = \"wav\"  #@param [\"wav\", \"flac\", \"mp3\"]\n",
        "\n",
        "def downloader(url, save_path, audio_format, audio_name):\n",
        "    ydl_opts = {\n",
        "        'format': 'bestaudio/best',\n",
        "        'postprocessors': [{\n",
        "            'key': 'FFmpegExtractAudio',\n",
        "            'preferredcodec': audio_format,\n",
        "        }],\n",
        "        'outtmpl': save_path,\n",
        "    }\n",
        "\n",
        "    with yt_dlp.YoutubeDL(ydl_opts) as ydl:\n",
        "        ydl.download([url])\n",
        "\n",
        "save_path = os.path.join(save_folder, audio_name)\n",
        "downloader(video_url, save_path, audio_format, audio_name)\n",
        "print(\"Download Complete!\")"
      ],
      "metadata": {
        "cellView": "form",
        "id": "_ceydKPjMphW"
      },
      "execution_count": null,
      "outputs": []
    },
    {
      "cell_type": "code",
      "execution_count": null,
      "metadata": {
        "colab": {
          "background_save": true
        },
        "id": "lrCKEOzvDPRu",
        "cellView": "form"
      },
      "outputs": [],
      "source": [
        "# @title Run Inference\n",
        "\n",
        "import os\n",
        "\n",
        "\n",
        "current_dir = os.getcwd()\n",
        "\n",
        "model_name = \"Sonic\"  # @param {type:\"string\"}\n",
        "model_folder = os.path.join(current_dir, f\"logs/{model_name}\")\n",
        "\n",
        "if not os.path.exists(model_folder):\n",
        "    raise FileNotFoundError(f\"Model directory not found: {model_folder}\")\n",
        "\n",
        "files_in_folder = os.listdir(model_folder)\n",
        "pth_path = next((f for f in files_in_folder if f.endswith(\".pth\")), None)\n",
        "index_file = next((f for f in files_in_folder if f.endswith(\".index\")), None)\n",
        "\n",
        "if pth_path is None or index_file is None:\n",
        "    raise FileNotFoundError(\"No model found.\")\n",
        "\n",
        "pth_file = os.path.join(model_folder, pth_path)\n",
        "index_file = os.path.join(model_folder, index_file)\n",
        "\n",
        "input_path = \"/content/audios/\"  # @param {type:\"string\"}\n",
        "output_path = \"/content/audios/\" # @param {type:\"string\"}\n",
        "export_format = \"WAV\"  # @param ['WAV', 'MP3', 'FLAC', 'OGG', 'M4A'] {allow-input: false}\n",
        "f0method = \"hybrid[rmvpe+fcpe]\"  # @param [\"pm\", \"dio\", \"crepe\", \"crepe-tiny\", \"harvest\", \"rmvpe\", \"fcpe\", \"hybrid[rmvpe+fcpe]\"] {allow-input: false}\n",
        "f0up_key = 0  # @param {type:\"slider\", min:-24, max:24, step:0}\n",
        "filter_radius = 3  # @param {type:\"slider\", min:0, max:10, step:0}\n",
        "rms_mix_rate = 0.8  # @param {type:\"slider\", min:0.0, max:1.0, step:0.1}\n",
        "protect = 0.5  # @param {type:\"slider\", min:0.0, max:0.5, step:0.1}\n",
        "index_rate = 0  # @param {type:\"slider\", min:0.0, max:1.0, step:0.1}\n",
        "hop_length = 128  # @param {type:\"slider\", min:1, max:512, step:0}\n",
        "clean_strength = 0.7  # @param {type:\"slider\", min:0.0, max:1.0, step:0.1}\n",
        "split_audio = False  # @param{type:\"boolean\"}\n",
        "clean_audio = False  # @param{type:\"boolean\"}\n",
        "autotune = False  # @param{type:\"boolean\"}\n",
        "\n",
        "!python core.py infer --f0up_key \"{f0up_key}\" --filter_radius \"{filter_radius}\" --index_rate \"{index_rate}\" --hop_length \"{hop_length}\" --rms_mix_rate \"{rms_mix_rate}\" --protect \"{protect}\" --f0autotune \"{autotune}\" --f0method \"{f0method}\" --input_path \"{input_path}\" --output_path \"{output_path}\" --pth_path \"{pth_file}\" --index_path \"{index_file}\" --split_audio \"{split_audio}\" --clean_audio \"{clean_audio}\" --clean_strength \"{clean_strength}\" --export_format \"{export_format}\"\n",
        "\n",
        "from IPython.display import Audio\n",
        "Audio(output_path, autoplay=True)"
      ]
    }
  ],
  "metadata": {
    "accelerator": "GPU",
    "colab": {
      "collapsed_sections": [
        "Y-iR3WeLMlac",
        "1QkabnLlF2KB",
        "OaKoymXsyEYN"
      ],
      "provenance": [],
      "include_colab_link": true
    },
    "kernelspec": {
      "display_name": "Python 3",
      "name": "python3"
    },
    "language_info": {
      "name": "python"
    }
  },
  "nbformat": 4,
  "nbformat_minor": 0
}